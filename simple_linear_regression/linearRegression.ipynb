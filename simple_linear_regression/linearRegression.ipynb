{
 "cells": [
  {
   "cell_type": "code",
   "execution_count": null,
   "metadata": {},
   "outputs": [],
   "source": []
  },
  {
   "cell_type": "markdown",
   "metadata": {},
   "source": [
    "## STEPS:\n",
    "\n",
    "### Training :\n",
    "    - Initialize weight(w) as 0\n",
    "    - Initialize bias (b) as 0\n",
    "\n",
    "### Given a data point :\n",
    "    - Predict result by using y = wx+b\n",
    "    - Calculate error\n",
    "    - Use gradient descent to figure out new weight and bias.\n",
    "    - Repeat n times\n",
    "\n",
    "### Testing :\n",
    "    - Given a data point :\n",
    "        - Put in the values from data point into the equation (y=wx+b)"
   ]
  },
  {
   "cell_type": "markdown",
   "metadata": {},
   "source": []
  }
 ],
 "metadata": {
  "kernelspec": {
   "display_name": "Python 3.9.7 64-bit ('anaconda3')",
   "language": "python",
   "name": "python3"
  },
  "language_info": {
   "name": "python",
   "version": "3.9.7"
  },
  "orig_nbformat": 4,
  "vscode": {
   "interpreter": {
    "hash": "a2a44d6bf7725472b302fb43220884295e1f7de98ffd4624c738d18ae0190b1a"
   }
  }
 },
 "nbformat": 4,
 "nbformat_minor": 2
}
