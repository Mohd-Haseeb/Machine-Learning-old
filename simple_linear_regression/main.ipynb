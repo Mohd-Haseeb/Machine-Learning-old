{
 "cells": [
  {
   "cell_type": "code",
   "execution_count": 10,
   "metadata": {},
   "outputs": [],
   "source": [
    "import pandas as pd\n",
    "import numpy as np\n",
    "import seaborn as sns\n",
    "import matplotlib.pyplot as plt"
   ]
  },
  {
   "cell_type": "code",
   "execution_count": 7,
   "metadata": {},
   "outputs": [
    {
     "data": {
      "text/html": [
       "<div>\n",
       "<style scoped>\n",
       "    .dataframe tbody tr th:only-of-type {\n",
       "        vertical-align: middle;\n",
       "    }\n",
       "\n",
       "    .dataframe tbody tr th {\n",
       "        vertical-align: top;\n",
       "    }\n",
       "\n",
       "    .dataframe thead th {\n",
       "        text-align: right;\n",
       "    }\n",
       "</style>\n",
       "<table border=\"1\" class=\"dataframe\">\n",
       "  <thead>\n",
       "    <tr style=\"text-align: right;\">\n",
       "      <th></th>\n",
       "      <th>Experience</th>\n",
       "      <th>Salary</th>\n",
       "    </tr>\n",
       "  </thead>\n",
       "  <tbody>\n",
       "    <tr>\n",
       "      <th>0</th>\n",
       "      <td>0</td>\n",
       "      <td>25000</td>\n",
       "    </tr>\n",
       "    <tr>\n",
       "      <th>1</th>\n",
       "      <td>2</td>\n",
       "      <td>40000</td>\n",
       "    </tr>\n",
       "    <tr>\n",
       "      <th>2</th>\n",
       "      <td>4</td>\n",
       "      <td>70000</td>\n",
       "    </tr>\n",
       "    <tr>\n",
       "      <th>3</th>\n",
       "      <td>6</td>\n",
       "      <td>80000</td>\n",
       "    </tr>\n",
       "    <tr>\n",
       "      <th>4</th>\n",
       "      <td>10</td>\n",
       "      <td>110000</td>\n",
       "    </tr>\n",
       "    <tr>\n",
       "      <th>5</th>\n",
       "      <td>12</td>\n",
       "      <td>110000</td>\n",
       "    </tr>\n",
       "    <tr>\n",
       "      <th>6</th>\n",
       "      <td>34</td>\n",
       "      <td>140000</td>\n",
       "    </tr>\n",
       "    <tr>\n",
       "      <th>7</th>\n",
       "      <td>25</td>\n",
       "      <td>130000</td>\n",
       "    </tr>\n",
       "    <tr>\n",
       "      <th>8</th>\n",
       "      <td>3</td>\n",
       "      <td>300000</td>\n",
       "    </tr>\n",
       "    <tr>\n",
       "      <th>9</th>\n",
       "      <td>9</td>\n",
       "      <td>80000</td>\n",
       "    </tr>\n",
       "  </tbody>\n",
       "</table>\n",
       "</div>"
      ],
      "text/plain": [
       "   Experience  Salary\n",
       "0           0   25000\n",
       "1           2   40000\n",
       "2           4   70000\n",
       "3           6   80000\n",
       "4          10  110000\n",
       "5          12  110000\n",
       "6          34  140000\n",
       "7          25  130000\n",
       "8           3  300000\n",
       "9           9   80000"
      ]
     },
     "execution_count": 7,
     "metadata": {},
     "output_type": "execute_result"
    }
   ],
   "source": [
    "# lets take a example\n",
    "X = [0,2,4,6,10,12,34,25,3,9]\n",
    "y = [25000, 40000, 70000, 80000, 110000, 110000, 140000, 130000, 300000, 80000]\n",
    "\n",
    "df =pd.DataFrame({'Experience':X, 'Salary':y})\n",
    "\n",
    "df\n"
   ]
  },
  {
   "cell_type": "code",
   "execution_count": 9,
   "metadata": {},
   "outputs": [
    {
     "data": {
      "text/plain": [
       "<seaborn.axisgrid.FacetGrid at 0x7f7f410cb7f0>"
      ]
     },
     "execution_count": 9,
     "metadata": {},
     "output_type": "execute_result"
    },
    {
     "data": {
      "image/png": "[encoded data removed]",
      "text/plain": [
       "<Figure size 360x360 with 1 Axes>"
      ]
     },
     "metadata": {
      "needs_background": "light"
     },
     "output_type": "display_data"
    }
   ],
   "source": [
    "sns.lmplot(x='Experience', y='Salary', data=df)"
   ]
  },
  {
   "cell_type": "code",
   "execution_count": 41,
   "metadata": {},
   "outputs": [],
   "source": [
    "x_train = np.array([1.0, 2.0])           #(size in 1000 square feet)\n",
    "y_train = np.array([300.0, 500.0])           #(price in 1000s of dollars)"
   ]
  },
  {
   "cell_type": "code",
   "execution_count": 42,
   "metadata": {},
   "outputs": [
    {
     "data": {
      "text/plain": [
       "[<matplotlib.lines.Line2D at 0x7f7f202d7850>]"
      ]
     },
     "execution_count": 42,
     "metadata": {},
     "output_type": "execute_result"
    },
    {
     "data": {
      "image/png": "[encoded data removed]",
      "text/plain": [
       "<Figure size 432x288 with 1 Axes>"
      ]
     },
     "metadata": {
      "needs_background": "light"
     },
     "output_type": "display_data"
    }
   ],
   "source": [
    "plt.plot(x_train, y_train)"
   ]
  },
  {
   "cell_type": "code",
   "execution_count": 1,
   "metadata": {},
   "outputs": [],
   "source": [
    "\n",
    "def compute_cost(x, y, theta_1, theta_0): \n",
    "    \"\"\"\n",
    "    Computes the cost function for linear regression.\n",
    "    \n",
    "    Args:\n",
    "      x (ndarray (m,)): Data, m examples \n",
    "      y (ndarray (m,)): target values\n",
    "      theta_1, theta_0 (scalar)    : model parameters  \n",
    "    \n",
    "    Returns\n",
    "        total_cost (float): The cost of using theta_1, theta_0 as the parameters for linear regression\n",
    "               to fit the data points in x and y\n",
    "    \"\"\"\n",
    "    # number of training examples\n",
    "    m = len(x)\n",
    "    \n",
    "    cost_sum = 0 \n",
    "    for i in range(m): \n",
    "        f_wb = theta_1 * x[i] + theta_0    # predicted value\n",
    "        cost = (f_wb - y[i]) ** 2   # predicted - actual\n",
    "        cost_sum = cost_sum + cost  \n",
    "    total_cost = (1 / (m)) * cost_sum  \n",
    "\n",
    "    return total_cost"
   ]
  },
  {
   "cell_type": "code",
   "execution_count": 38,
   "metadata": {},
   "outputs": [
    {
     "data": {
      "text/plain": [
       "1.6666666666666665"
      ]
     },
     "execution_count": 38,
     "metadata": {},
     "output_type": "execute_result"
    }
   ],
   "source": [
    "compute_cost([1,2,3], [1,2,3],0,1)"
   ]
  },
  {
   "cell_type": "code",
   "execution_count": 44,
   "metadata": {},
   "outputs": [
    {
     "data": {
      "text/plain": [
       "[170000.0,\n",
       " 169676.93092541577,\n",
       " 169354.18834812773,\n",
       " 169031.77226813592,\n",
       " 168709.68268544026,\n",
       " 168387.91960004083,\n",
       " 168066.48301193755,\n",
       " 167745.37292113047,\n",
       " 167424.58932761964,\n",
       " 167104.13223140498,\n",
       " 166784.00163248647,\n",
       " 166464.19753086418,\n",
       " 166144.7199265381,\n",
       " 165825.56881950822,\n",
       " 165506.7442097745,\n",
       " 165188.24609733702,\n",
       " 164870.0744821957,\n",
       " 164552.22936435055,\n",
       " 164234.71074380167,\n",
       " 163917.51862054894,\n",
       " 163600.65299459238,\n",
       " 163284.11386593204,\n",
       " 162967.9012345679,\n",
       " 162652.01510049996,\n",
       " 162336.4554637282,\n",
       " 162021.22232425262,\n",
       " 161706.31568207324,\n",
       " 161391.73553719005,\n",
       " 161077.4818896031,\n",
       " 160763.55473931233,\n",
       " 160449.95408631774,\n",
       " 160136.6799306193,\n",
       " 159823.7322722171,\n",
       " 159511.11111111112,\n",
       " 159198.8164473013,\n",
       " 158886.84828078767,\n",
       " 158575.20661157023,\n",
       " 158263.89143964899,\n",
       " 157952.902765024,\n",
       " 157642.24058769515,\n",
       " 157331.90490766248,\n",
       " 157021.89572492603,\n",
       " 156712.21303948574,\n",
       " 156402.85685134173,\n",
       " 156093.82716049382,\n",
       " 155785.12396694213,\n",
       " 155476.74727068667,\n",
       " 155168.6970717274,\n",
       " 154860.97337006428,\n",
       " 154553.5761656974,\n",
       " 154246.50545862666,\n",
       " 153939.76124885216,\n",
       " 153633.3435363738,\n",
       " 153327.2523211917,\n",
       " 153021.48760330578,\n",
       " 152716.04938271604,\n",
       " 152410.9376594225,\n",
       " 152106.1524334252,\n",
       " 151801.69370472402,\n",
       " 151497.56147331907,\n",
       " 151193.7557392103,\n",
       " 150890.2765023977,\n",
       " 150587.12376288135,\n",
       " 150284.29752066117,\n",
       " 149981.79777573718,\n",
       " 149679.6245281094,\n",
       " 149377.77777777775,\n",
       " 149076.2575247424,\n",
       " 148775.06376900317,\n",
       " 148474.19651056014,\n",
       " 148173.6557494133,\n",
       " 147873.44148556268,\n",
       " 147573.55371900828,\n",
       " 147273.99244975002,\n",
       " 146974.75767778797,\n",
       " 146675.84940312212,\n",
       " 146377.26762575246,\n",
       " 146079.01234567905,\n",
       " 145781.08356290177,\n",
       " 145483.48127742068,\n",
       " 145186.20548923578,\n",
       " 144889.25619834708,\n",
       " 144592.63340475463,\n",
       " 144296.33710845833,\n",
       " 144000.3673094582,\n",
       " 143704.7240077543,\n",
       " 143409.40720334658,\n",
       " 143114.41689623508,\n",
       " 142819.75308641978,\n",
       " 142525.41577390063,\n",
       " 142231.40495867768,\n",
       " 141937.72064075092,\n",
       " 141644.3628201204,\n",
       " 141351.33149678606,\n",
       " 141058.62667074788,\n",
       " 140766.2483420059,\n",
       " 140474.1965105601,\n",
       " 140182.4711764106,\n",
       " 139891.0723395572,\n",
       " 139600.0]"
      ]
     },
     "execution_count": 44,
     "metadata": {},
     "output_type": "execute_result"
    }
   ],
   "source": [
    "# Now, lets take different values of theta_1 (0,0.5,1,1.5,2,2.5)\n",
    "\n",
    "all = np.linspace(0,40,num=100)\n",
    "cost_values = []\n",
    "\n",
    "for i in all:\n",
    "    cost_values.append(compute_cost(x_train, y_train,0,i))\n",
    "\n",
    "cost_values"
   ]
  },
  {
   "cell_type": "code",
   "execution_count": 45,
   "metadata": {},
   "outputs": [
    {
     "data": {
      "text/plain": [
       "[<matplotlib.lines.Line2D at 0x7f7f20342a30>]"
      ]
     },
     "execution_count": 45,
     "metadata": {},
     "output_type": "execute_result"
    },
    {
     "data": {
      "image/png": "[encoded data removed]",
      "text/plain": [
       "<Figure size 432x288 with 1 Axes>"
      ]
     },
     "metadata": {
      "needs_background": "light"
     },
     "output_type": "display_data"
    }
   ],
   "source": [
    "plt.plot(all, cost_values)"
   ]
  },
  {
   "cell_type": "code",
   "execution_count": 46,
   "metadata": {},
   "outputs": [
    {
     "data": {
      "text/plain": [
       "array([ 0.        ,  0.4040404 ,  0.80808081,  1.21212121,  1.61616162,\n",
       "        2.02020202,  2.42424242,  2.82828283,  3.23232323,  3.63636364,\n",
       "        4.04040404,  4.44444444,  4.84848485,  5.25252525,  5.65656566,\n",
       "        6.06060606,  6.46464646,  6.86868687,  7.27272727,  7.67676768,\n",
       "        8.08080808,  8.48484848,  8.88888889,  9.29292929,  9.6969697 ,\n",
       "       10.1010101 , 10.50505051, 10.90909091, 11.31313131, 11.71717172,\n",
       "       12.12121212, 12.52525253, 12.92929293, 13.33333333, 13.73737374,\n",
       "       14.14141414, 14.54545455, 14.94949495, 15.35353535, 15.75757576,\n",
       "       16.16161616, 16.56565657, 16.96969697, 17.37373737, 17.77777778,\n",
       "       18.18181818, 18.58585859, 18.98989899, 19.39393939, 19.7979798 ,\n",
       "       20.2020202 , 20.60606061, 21.01010101, 21.41414141, 21.81818182,\n",
       "       22.22222222, 22.62626263, 23.03030303, 23.43434343, 23.83838384,\n",
       "       24.24242424, 24.64646465, 25.05050505, 25.45454545, 25.85858586,\n",
       "       26.26262626, 26.66666667, 27.07070707, 27.47474747, 27.87878788,\n",
       "       28.28282828, 28.68686869, 29.09090909, 29.49494949, 29.8989899 ,\n",
       "       30.3030303 , 30.70707071, 31.11111111, 31.51515152, 31.91919192,\n",
       "       32.32323232, 32.72727273, 33.13131313, 33.53535354, 33.93939394,\n",
       "       34.34343434, 34.74747475, 35.15151515, 35.55555556, 35.95959596,\n",
       "       36.36363636, 36.76767677, 37.17171717, 37.57575758, 37.97979798,\n",
       "       38.38383838, 38.78787879, 39.19191919, 39.5959596 , 40.        ])"
      ]
     },
     "execution_count": 46,
     "metadata": {},
     "output_type": "execute_result"
    }
   ],
   "source": [
    "np.linspace(0,40,num=100)"
   ]
  },
  {
   "cell_type": "code",
   "execution_count": null,
   "metadata": {},
   "outputs": [],
   "source": []
  },
  {
   "cell_type": "markdown",
   "metadata": {},
   "source": [
    "To implement Gradient Descent Algorithm, we need three functions\n",
    "- compute_cost\n",
    "- compute gardient\n",
    "- gradient_descent\n",
    "\n",
    "\n",
    "compute gardient -> returns the value of Differentials\n",
    "\n",
    "gradient_descent -> uses both compute_cost and compute_gradient"
   ]
  },
  {
   "cell_type": "code",
   "execution_count": null,
   "metadata": {},
   "outputs": [],
   "source": []
  }
 ],
 "metadata": {
  "kernelspec": {
   "display_name": "Python 3.9.7 64-bit ('anaconda3')",
   "language": "python",
   "name": "python3"
  },
  "language_info": {
   "codemirror_mode": {
    "name": "ipython",
    "version": 3
   },
   "file_extension": ".py",
   "mimetype": "text/x-python",
   "name": "python",
   "nbconvert_exporter": "python",
   "pygments_lexer": "ipython3",
   "version": "3.9.7"
  },
  "orig_nbformat": 4,
  "vscode": {
   "interpreter": {
    "hash": "a2a44d6bf7725472b302fb43220884295e1f7de98ffd4624c738d18ae0190b1a"
   }
  }
 },
 "nbformat": 4,
 "nbformat_minor": 2
}
