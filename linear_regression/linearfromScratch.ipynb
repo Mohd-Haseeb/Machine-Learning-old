{
 "cells": [
  {
   "cell_type": "code",
   "execution_count": 123,
   "metadata": {},
   "outputs": [],
   "source": [
    "import pandas as pd\n",
    "import numpy as np"
   ]
  },
  {
   "cell_type": "markdown",
   "metadata": {},
   "source": [
    "Simple Linear Regression predicts the values by determining the slope(weight) and intercept\n",
    "\n",
    "Values of m(slope) and b(intercept) can be determined by two methods\n",
    "\n",
    "- Closed Form Solutions (OLS) ; only for 1-D data\n",
    "- Non-closed Form Solution (Gradient Descent)\n",
    "\n",
    "ScikitLearn library implements OLS behind the scenes and values of m & b are determined by formula\n",
    "\n",
    "## b = $\\overline{y}$ - x * $\\overline{X}$ \n",
    "\n",
    "## m = $\\frac{\\sum_{i=1}^{n} (X_i - \\overline{X}) (y_i - \\overline{y})}{\\sum_{i=1}^{n} (X_i - \\overline{X})^2 }$\n",
    "\n",
    "    \n"
   ]
  },
  {
   "cell_type": "markdown",
   "metadata": {},
   "source": [
    "![](./Images/linearreg_error.webp)\n",
    "\n",
    "In this image, Linear Regression finds the best fit line. But, how to decide if this the best fit one or not?\n",
    "\n",
    "First lets find the Error. It is the difference between actual y and predicted y i.e $y_i - \\hat{y}_i$"
   ]
  },
  {
   "cell_type": "markdown",
   "metadata": {},
   "source": [
    "E = $\\sum_{i=1}^{n} (y_i - \\hat{y}_i)$\n",
    "\n",
    "We square it to punish those values which deviate by a large margin. So\n",
    "    E = $\\sum_{i=1}^{n} (y_i - \\hat{y}_i)^2$\n",
    "\n",
    "The lower the value of E, the better our model predicts.\n",
    "\n",
    "So, our aim should be to find optimal values of m(slope) and b(intercept).\n",
    "\n",
    "E(m,b) = $\\sum_{i=1}^{n} (y_i - \\hat{y}_i)^2$\n",
    "\n",
    "E(m,b) = $\\sum_{i=1}^{n} (y_i - m*X_i - b)^2$\n"
   ]
  },
  {
   "cell_type": "code",
   "execution_count": 112,
   "metadata": {},
   "outputs": [],
   "source": [
    "\n",
    "class LinearRegression:\n",
    "    def __init__(self) -> None:\n",
    "        self.m = None\n",
    "        self.b = None\n",
    "    \n",
    "    def fit(self,X_train, y_train):\n",
    "\n",
    "         X = X_train.values\n",
    "         y = y_train.values\n",
    "\n",
    "         x_mean = X.mean()\n",
    "         y_mean = y.mean()\n",
    "\n",
    "         numerator = denominator = 0\n",
    "\n",
    "         for i  in range(X.shape[0]):\n",
    "            numerator += (X[i] - x_mean) * (y[i] - y_mean)\n",
    "            denominator += (X[i] - x_mean) ** 2\n",
    "        \n",
    "         self.m = numerator/denominator\n",
    "\n",
    "\n",
    "         self.b = y_mean - (self.m * x_mean)\n",
    "\n",
    "         print(self.m, self.b)\n",
    "    \n",
    "    def predict(self, X_test):\n",
    "        X = X_test.values\n",
    "\n",
    "        predicted_values = np.zeros(X.shape[0])\n",
    "\n",
    "        \n",
    "\n",
    "        for i in range(X.shape[0]):\n",
    "            predicted_values[i] = (self.m * X[i]) + self.b\n",
    "\n",
    "        print(predicted_values)\n",
    "\n"
   ]
  },
  {
   "cell_type": "markdown",
   "metadata": {},
   "source": [
    "- Training linear regression means finding values of m(slope/weight) and b(intercept)"
   ]
  },
  {
   "cell_type": "code",
   "execution_count": 113,
   "metadata": {},
   "outputs": [],
   "source": [
    "df = pd.read_csv('./Advertising.csv')\n"
   ]
  },
  {
   "cell_type": "code",
   "execution_count": 114,
   "metadata": {},
   "outputs": [
    {
     "data": {
      "text/html": [
       "<div>\n",
       "<style scoped>\n",
       "    .dataframe tbody tr th:only-of-type {\n",
       "        vertical-align: middle;\n",
       "    }\n",
       "\n",
       "    .dataframe tbody tr th {\n",
       "        vertical-align: top;\n",
       "    }\n",
       "\n",
       "    .dataframe thead th {\n",
       "        text-align: right;\n",
       "    }\n",
       "</style>\n",
       "<table border=\"1\" class=\"dataframe\">\n",
       "  <thead>\n",
       "    <tr style=\"text-align: right;\">\n",
       "      <th></th>\n",
       "      <th>TV</th>\n",
       "      <th>radio</th>\n",
       "      <th>newspaper</th>\n",
       "      <th>sales</th>\n",
       "    </tr>\n",
       "  </thead>\n",
       "  <tbody>\n",
       "    <tr>\n",
       "      <th>0</th>\n",
       "      <td>230.1</td>\n",
       "      <td>37.8</td>\n",
       "      <td>69.2</td>\n",
       "      <td>22.1</td>\n",
       "    </tr>\n",
       "    <tr>\n",
       "      <th>1</th>\n",
       "      <td>44.5</td>\n",
       "      <td>39.3</td>\n",
       "      <td>45.1</td>\n",
       "      <td>10.4</td>\n",
       "    </tr>\n",
       "    <tr>\n",
       "      <th>2</th>\n",
       "      <td>17.2</td>\n",
       "      <td>45.9</td>\n",
       "      <td>69.3</td>\n",
       "      <td>9.3</td>\n",
       "    </tr>\n",
       "    <tr>\n",
       "      <th>3</th>\n",
       "      <td>151.5</td>\n",
       "      <td>41.3</td>\n",
       "      <td>58.5</td>\n",
       "      <td>18.5</td>\n",
       "    </tr>\n",
       "    <tr>\n",
       "      <th>4</th>\n",
       "      <td>180.8</td>\n",
       "      <td>10.8</td>\n",
       "      <td>58.4</td>\n",
       "      <td>12.9</td>\n",
       "    </tr>\n",
       "  </tbody>\n",
       "</table>\n",
       "</div>"
      ],
      "text/plain": [
       "      TV  radio  newspaper  sales\n",
       "0  230.1   37.8       69.2   22.1\n",
       "1   44.5   39.3       45.1   10.4\n",
       "2   17.2   45.9       69.3    9.3\n",
       "3  151.5   41.3       58.5   18.5\n",
       "4  180.8   10.8       58.4   12.9"
      ]
     },
     "execution_count": 114,
     "metadata": {},
     "output_type": "execute_result"
    }
   ],
   "source": [
    "df.head()"
   ]
  },
  {
   "cell_type": "code",
   "execution_count": 115,
   "metadata": {},
   "outputs": [
    {
     "data": {
      "text/html": [
       "<div>\n",
       "<style scoped>\n",
       "    .dataframe tbody tr th:only-of-type {\n",
       "        vertical-align: middle;\n",
       "    }\n",
       "\n",
       "    .dataframe tbody tr th {\n",
       "        vertical-align: top;\n",
       "    }\n",
       "\n",
       "    .dataframe thead th {\n",
       "        text-align: right;\n",
       "    }\n",
       "</style>\n",
       "<table border=\"1\" class=\"dataframe\">\n",
       "  <thead>\n",
       "    <tr style=\"text-align: right;\">\n",
       "      <th></th>\n",
       "      <th>sales</th>\n",
       "      <th>total</th>\n",
       "    </tr>\n",
       "  </thead>\n",
       "  <tbody>\n",
       "    <tr>\n",
       "      <th>0</th>\n",
       "      <td>22.1</td>\n",
       "      <td>337.1</td>\n",
       "    </tr>\n",
       "    <tr>\n",
       "      <th>1</th>\n",
       "      <td>10.4</td>\n",
       "      <td>128.9</td>\n",
       "    </tr>\n",
       "    <tr>\n",
       "      <th>2</th>\n",
       "      <td>9.3</td>\n",
       "      <td>132.4</td>\n",
       "    </tr>\n",
       "    <tr>\n",
       "      <th>3</th>\n",
       "      <td>18.5</td>\n",
       "      <td>251.3</td>\n",
       "    </tr>\n",
       "    <tr>\n",
       "      <th>4</th>\n",
       "      <td>12.9</td>\n",
       "      <td>250.0</td>\n",
       "    </tr>\n",
       "  </tbody>\n",
       "</table>\n",
       "</div>"
      ],
      "text/plain": [
       "   sales  total\n",
       "0   22.1  337.1\n",
       "1   10.4  128.9\n",
       "2    9.3  132.4\n",
       "3   18.5  251.3\n",
       "4   12.9  250.0"
      ]
     },
     "execution_count": 115,
     "metadata": {},
     "output_type": "execute_result"
    }
   ],
   "source": [
    "df['total'] = df['TV'] + df['radio'] + df['newspaper']\n",
    "\n",
    "df.drop(['TV','radio', 'newspaper'], axis=1, inplace=True)\n",
    "\n",
    "df.head()"
   ]
  },
  {
   "cell_type": "code",
   "execution_count": 116,
   "metadata": {},
   "outputs": [],
   "source": [
    "X = df['total']\n",
    " \n",
    "y = df['sales']"
   ]
  },
  {
   "cell_type": "code",
   "execution_count": 117,
   "metadata": {},
   "outputs": [],
   "source": [
    "from sklearn.model_selection import train_test_split"
   ]
  },
  {
   "cell_type": "code",
   "execution_count": 118,
   "metadata": {},
   "outputs": [],
   "source": [
    "X_train, X_test, y_train, y_test = train_test_split(X, y, test_size=0.2, random_state=42)"
   ]
  },
  {
   "cell_type": "code",
   "execution_count": 119,
   "metadata": {},
   "outputs": [],
   "source": [
    "myModel = LinearRegression()"
   ]
  },
  {
   "cell_type": "code",
   "execution_count": 120,
   "metadata": {},
   "outputs": [
    {
     "name": "stdout",
     "output_type": "stream",
     "text": [
      "0.048957096175931 4.169512013489047\n"
     ]
    }
   ],
   "source": [
    "myModel.fit(X_train, y_train)"
   ]
  },
  {
   "cell_type": "code",
   "execution_count": 121,
   "metadata": {},
   "outputs": [
    {
     "name": "stdout",
     "output_type": "stream",
     "text": [
      "[16.30108045 18.66081248 22.00947786  8.76168763 17.51032072 12.13972727\n",
      " 18.26426     8.08607971 15.86536229 15.38558275  7.02371072  8.65398202\n",
      " 19.96796695  6.35789421 12.40409559 14.60716492  7.929417   15.67932532\n",
      " 10.44091603 17.67677485 20.61909633 14.86174182  8.58544209 21.77937951\n",
      "  8.04691403  7.93431271 18.38175703 12.19847579 10.28425333  6.01519454\n",
      " 15.11631872  9.4568784  19.26298476 11.51307644 20.40368511 17.76979333\n",
      "  9.2512586  21.90666796 10.89132132  6.6075754 ]\n"
     ]
    }
   ],
   "source": [
    "myModel.predict(X_test)"
   ]
  },
  {
   "cell_type": "code",
   "execution_count": 122,
   "metadata": {},
   "outputs": [
    {
     "name": "stdout",
     "output_type": "stream",
     "text": [
      "[0.0489571]\n",
      "4.16951201348904\n"
     ]
    }
   ],
   "source": [
    "from statistics import mode\n",
    "from sklearn.linear_model import LinearRegression\n",
    "\n",
    "model = LinearRegression()\n",
    "\n",
    "model.fit(X_train.values.reshape(-1,1), y_train)\n",
    "\n",
    "print(model.coef_)\n",
    "\n",
    "print(model.intercept_)"
   ]
  },
  {
   "cell_type": "code",
   "execution_count": null,
   "metadata": {},
   "outputs": [],
   "source": []
  },
  {
   "cell_type": "code",
   "execution_count": null,
   "metadata": {},
   "outputs": [],
   "source": []
  }
 ],
 "metadata": {
  "kernelspec": {
   "display_name": "Python 3.9.7 ('base')",
   "language": "python",
   "name": "python3"
  },
  "language_info": {
   "codemirror_mode": {
    "name": "ipython",
    "version": 3
   },
   "file_extension": ".py",
   "mimetype": "text/x-python",
   "name": "python",
   "nbconvert_exporter": "python",
   "pygments_lexer": "ipython3",
   "version": "3.9.7"
  },
  "orig_nbformat": 4,
  "vscode": {
   "interpreter": {
    "hash": "a2a44d6bf7725472b302fb43220884295e1f7de98ffd4624c738d18ae0190b1a"
   }
  }
 },
 "nbformat": 4,
 "nbformat_minor": 2
}
