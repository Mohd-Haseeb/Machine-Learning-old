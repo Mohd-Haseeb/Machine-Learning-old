{
 "cells": [
  {
   "cell_type": "code",
   "execution_count": 1,
   "metadata": {},
   "outputs": [],
   "source": [
    "import pandas as pd\n",
    "import numpy as np\n",
    "import seaborn as sns\n",
    "import matplotlib.pyplot as plt"
   ]
  },
  {
   "cell_type": "code",
   "execution_count": 2,
   "metadata": {},
   "outputs": [
    {
     "data": {
      "text/html": [
       "<div>\n",
       "<style scoped>\n",
       "    .dataframe tbody tr th:only-of-type {\n",
       "        vertical-align: middle;\n",
       "    }\n",
       "\n",
       "    .dataframe tbody tr th {\n",
       "        vertical-align: top;\n",
       "    }\n",
       "\n",
       "    .dataframe thead th {\n",
       "        text-align: right;\n",
       "    }\n",
       "</style>\n",
       "<table border=\"1\" class=\"dataframe\">\n",
       "  <thead>\n",
       "    <tr style=\"text-align: right;\">\n",
       "      <th></th>\n",
       "      <th>Experience</th>\n",
       "      <th>Salary</th>\n",
       "    </tr>\n",
       "  </thead>\n",
       "  <tbody>\n",
       "    <tr>\n",
       "      <th>0</th>\n",
       "      <td>0</td>\n",
       "      <td>25000</td>\n",
       "    </tr>\n",
       "    <tr>\n",
       "      <th>1</th>\n",
       "      <td>2</td>\n",
       "      <td>40000</td>\n",
       "    </tr>\n",
       "    <tr>\n",
       "      <th>2</th>\n",
       "      <td>4</td>\n",
       "      <td>70000</td>\n",
       "    </tr>\n",
       "    <tr>\n",
       "      <th>3</th>\n",
       "      <td>6</td>\n",
       "      <td>80000</td>\n",
       "    </tr>\n",
       "    <tr>\n",
       "      <th>4</th>\n",
       "      <td>10</td>\n",
       "      <td>110000</td>\n",
       "    </tr>\n",
       "    <tr>\n",
       "      <th>5</th>\n",
       "      <td>12</td>\n",
       "      <td>110000</td>\n",
       "    </tr>\n",
       "    <tr>\n",
       "      <th>6</th>\n",
       "      <td>34</td>\n",
       "      <td>140000</td>\n",
       "    </tr>\n",
       "    <tr>\n",
       "      <th>7</th>\n",
       "      <td>25</td>\n",
       "      <td>130000</td>\n",
       "    </tr>\n",
       "    <tr>\n",
       "      <th>8</th>\n",
       "      <td>3</td>\n",
       "      <td>300000</td>\n",
       "    </tr>\n",
       "    <tr>\n",
       "      <th>9</th>\n",
       "      <td>9</td>\n",
       "      <td>80000</td>\n",
       "    </tr>\n",
       "  </tbody>\n",
       "</table>\n",
       "</div>"
      ],
      "text/plain": [
       "   Experience  Salary\n",
       "0           0   25000\n",
       "1           2   40000\n",
       "2           4   70000\n",
       "3           6   80000\n",
       "4          10  110000\n",
       "5          12  110000\n",
       "6          34  140000\n",
       "7          25  130000\n",
       "8           3  300000\n",
       "9           9   80000"
      ]
     },
     "execution_count": 2,
     "metadata": {},
     "output_type": "execute_result"
    }
   ],
   "source": [
    "# lets take a example\n",
    "X = [0,2,4,6,10,12,34,25,3,9]\n",
    "y = [25000, 40000, 70000, 80000, 110000, 110000, 140000, 130000, 300000, 80000]\n",
    "\n",
    "df =pd.DataFrame({'Experience':X, 'Salary':y})\n",
    "\n",
    "df\n"
   ]
  },
  {
   "cell_type": "code",
   "execution_count": 3,
   "metadata": {},
   "outputs": [
    {
     "data": {
      "text/plain": [
       "<seaborn.axisgrid.FacetGrid at 0x7fe99a1a7af0>"
      ]
     },
     "execution_count": 3,
     "metadata": {},
     "output_type": "execute_result"
    },
    {
     "data": {
      "image/png": "[encoded data removed]",
      "text/plain": [
       "<Figure size 360x360 with 1 Axes>"
      ]
     },
     "metadata": {
      "needs_background": "light"
     },
     "output_type": "display_data"
    }
   ],
   "source": [
    "sns.lmplot(x='Experience', y='Salary', data=df)"
   ]
  },
  {
   "cell_type": "code",
   "execution_count": 4,
   "metadata": {},
   "outputs": [],
   "source": [
    "x_train = np.array([1.0, 2.0])           #(size in 1000 square feet)\n",
    "y_train = np.array([300.0, 500.0])           #(price in 1000s of dollars)"
   ]
  },
  {
   "cell_type": "code",
   "execution_count": 5,
   "metadata": {},
   "outputs": [
    {
     "data": {
      "text/plain": [
       "[<matplotlib.lines.Line2D at 0x7fe9b94ad670>]"
      ]
     },
     "execution_count": 5,
     "metadata": {},
     "output_type": "execute_result"
    },
    {
     "data": {
      "image/png": "[encoded data removed]",
      "text/plain": [
       "<Figure size 432x288 with 1 Axes>"
      ]
     },
     "metadata": {
      "needs_background": "light"
     },
     "output_type": "display_data"
    }
   ],
   "source": [
    "plt.plot(x_train, y_train)"
   ]
  },
  {
   "cell_type": "code",
   "execution_count": 6,
   "metadata": {},
   "outputs": [],
   "source": [
    "\n",
    "def compute_cost(x, y, theta_1, theta_0): \n",
    "    \"\"\"\n",
    "    Computes the cost function for linear regression.\n",
    "    \n",
    "    Args:\n",
    "      x (ndarray (m,)): Data, m examples \n",
    "      y (ndarray (m,)): target values\n",
    "      theta_1, theta_0 (scalar)    : model parameters  \n",
    "    \n",
    "    Returns\n",
    "        total_cost (float): The cost of using theta_1, theta_0 as the parameters for linear regression\n",
    "               to fit the data points in x and y\n",
    "    \"\"\"\n",
    "    # number of training examples\n",
    "    m = len(x)\n",
    "    \n",
    "    cost_sum = 0 \n",
    "    for i in range(m): \n",
    "        f_wb = theta_1 * x[i] + theta_0    # predicted value\n",
    "        cost = (f_wb - y[i]) ** 2   # predicted - actual\n",
    "        cost_sum = cost_sum + cost  \n",
    "    total_cost = (1 / (m)) * cost_sum  \n",
    "\n",
    "    return total_cost"
   ]
  },
  {
   "cell_type": "code",
   "execution_count": 7,
   "metadata": {},
   "outputs": [
    {
     "data": {
      "text/plain": [
       "1.6666666666666665"
      ]
     },
     "execution_count": 7,
     "metadata": {},
     "output_type": "execute_result"
    }
   ],
   "source": [
    "compute_cost([1,2,3], [1,2,3],0,1)"
   ]
  },
  {
   "cell_type": "code",
   "execution_count": 8,
   "metadata": {},
   "outputs": [],
   "source": [
    "# Now, lets take different values of theta_1 (0,0.5,1,1.5,2,2.5)\n",
    "\n",
    "all = np.linspace(0,40,num=100)\n",
    "cost_values = []\n",
    "\n",
    "for i in all:\n",
    "    cost_values.append(compute_cost(x_train, y_train,0,i))\n",
    "\n",
    "# cost_values"
   ]
  },
  {
   "cell_type": "code",
   "execution_count": 9,
   "metadata": {},
   "outputs": [
    {
     "data": {
      "text/plain": [
       "[<matplotlib.lines.Line2D at 0x7fe980fc4ee0>]"
      ]
     },
     "execution_count": 9,
     "metadata": {},
     "output_type": "execute_result"
    },
    {
     "data": {
      "image/png": "[encoded data removed]",
      "text/plain": [
       "<Figure size 432x288 with 1 Axes>"
      ]
     },
     "metadata": {
      "needs_background": "light"
     },
     "output_type": "display_data"
    }
   ],
   "source": [
    "plt.plot(all, cost_values)"
   ]
  },
  {
   "cell_type": "code",
   "execution_count": 10,
   "metadata": {},
   "outputs": [
    {
     "data": {
      "text/plain": [
       "array([ 0.        ,  0.4040404 ,  0.80808081,  1.21212121,  1.61616162,\n",
       "        2.02020202,  2.42424242,  2.82828283,  3.23232323,  3.63636364,\n",
       "        4.04040404,  4.44444444,  4.84848485,  5.25252525,  5.65656566,\n",
       "        6.06060606,  6.46464646,  6.86868687,  7.27272727,  7.67676768,\n",
       "        8.08080808,  8.48484848,  8.88888889,  9.29292929,  9.6969697 ,\n",
       "       10.1010101 , 10.50505051, 10.90909091, 11.31313131, 11.71717172,\n",
       "       12.12121212, 12.52525253, 12.92929293, 13.33333333, 13.73737374,\n",
       "       14.14141414, 14.54545455, 14.94949495, 15.35353535, 15.75757576,\n",
       "       16.16161616, 16.56565657, 16.96969697, 17.37373737, 17.77777778,\n",
       "       18.18181818, 18.58585859, 18.98989899, 19.39393939, 19.7979798 ,\n",
       "       20.2020202 , 20.60606061, 21.01010101, 21.41414141, 21.81818182,\n",
       "       22.22222222, 22.62626263, 23.03030303, 23.43434343, 23.83838384,\n",
       "       24.24242424, 24.64646465, 25.05050505, 25.45454545, 25.85858586,\n",
       "       26.26262626, 26.66666667, 27.07070707, 27.47474747, 27.87878788,\n",
       "       28.28282828, 28.68686869, 29.09090909, 29.49494949, 29.8989899 ,\n",
       "       30.3030303 , 30.70707071, 31.11111111, 31.51515152, 31.91919192,\n",
       "       32.32323232, 32.72727273, 33.13131313, 33.53535354, 33.93939394,\n",
       "       34.34343434, 34.74747475, 35.15151515, 35.55555556, 35.95959596,\n",
       "       36.36363636, 36.76767677, 37.17171717, 37.57575758, 37.97979798,\n",
       "       38.38383838, 38.78787879, 39.19191919, 39.5959596 , 40.        ])"
      ]
     },
     "execution_count": 10,
     "metadata": {},
     "output_type": "execute_result"
    }
   ],
   "source": [
    "np.linspace(0,40,num=100)"
   ]
  },
  {
   "cell_type": "code",
   "execution_count": null,
   "metadata": {},
   "outputs": [],
   "source": []
  },
  {
   "cell_type": "markdown",
   "metadata": {},
   "source": [
    "To implement Gradient Descent Algorithm, we need three functions\n",
    "- compute_cost\n",
    "- compute gardient\n",
    "- gradient_descent\n",
    "\n",
    "\n",
    "compute gardient -> returns the value of Differentials\n",
    "\n",
    "gradient_descent -> uses both compute_cost and compute_gradient"
   ]
  },
  {
   "cell_type": "code",
   "execution_count": null,
   "metadata": {},
   "outputs": [],
   "source": []
  }
 ],
 "metadata": {
  "kernelspec": {
   "display_name": "Python 3.9.7 64-bit ('anaconda3')",
   "language": "python",
   "name": "python3"
  },
  "language_info": {
   "codemirror_mode": {
    "name": "ipython",
    "version": 3
   },
   "file_extension": ".py",
   "mimetype": "text/x-python",
   "name": "python",
   "nbconvert_exporter": "python",
   "pygments_lexer": "ipython3",
   "version": "3.9.7"
  },
  "orig_nbformat": 4,
  "vscode": {
   "interpreter": {
    "hash": "a2a44d6bf7725472b302fb43220884295e1f7de98ffd4624c738d18ae0190b1a"
   }
  }
 },
 "nbformat": 4,
 "nbformat_minor": 2
}
