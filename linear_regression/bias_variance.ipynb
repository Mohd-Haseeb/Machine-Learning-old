{
 "cells": [
  {
   "cell_type": "markdown",
   "metadata": {},
   "source": [
    "# __BIAS VARIANCE TRADE OFF__"
   ]
  },
  {
   "cell_type": "markdown",
   "metadata": {},
   "source": [
    "### Overfitting VS Underfitting"
   ]
  },
  {
   "cell_type": "markdown",
   "metadata": {},
   "source": [
    "Higher order polynomial model performs significantly better than a standard linear regression model.\n",
    "\n",
    "But, how to choose the optimal degree for the polynomial? What trade offs to be considered as we increase model complexity\n",
    "\n",
    "Increasing model complexity in search for better performance leads to __Bias Variance tradeooff__"
   ]
  },
  {
   "cell_type": "markdown",
   "metadata": {},
   "source": [
    "__Bias__: \n",
    "\n",
    "- Assumptions made by a model to make a function easier to learn. It is actually the error rate of the training data. When the error rate has a high value, we call it High Bias and when the error rate has a low value, we call it low Bias.\n",
    "\n",
    "__Variance__:  \n",
    "\n",
    "- The difference between the error rate of training data and testing data is called variance. If the difference is high then it’s called high variance and when the difference of errors is low then it’s called low variance. Usually, we want to make a low variance for generalized our model."
   ]
  },
  {
   "cell_type": "markdown",
   "metadata": {},
   "source": [
    "### __OVERFITTING__\n",
    "\n",
    "- Overfitting is also called ___HIGH VARIANCE___\n",
    "\n",
    "- Model fits too much to the noise from the data\n",
    "\n",
    "- This often results in low error on training sets but high error on test/validation sets.\n",
    "\n",
    "- If the data accuracy is very good say 90%, it is called __low bias__\n",
    "\n",
    "- Overfitting can be solved by using __HYPERPARAMETER TUNING__\n",
    "\n",
    "- If Training data => Very good accuracy -> **LOW BIAS**\n",
    "\n",
    "- If Test data => Very bad accuracy -> **HIGH VARIANCE**"
   ]
  },
  {
   "cell_type": "markdown",
   "metadata": {},
   "source": [
    "### __UNDERFITTING__\n",
    "\n",
    "- Model doesn't capture the underlying trend of the data set and doesn't fit the data well enough\n",
    "\n",
    "- __Low Variance__ but __High Bias__\n",
    "\n",
    "- Underfiting is often result of an excessively simple model\n",
    "\n",
    "- This can lead to poor performance in both training and testing data\n",
    "\n",
    "- If Training data => Bad accuracy -> **HIGH BIAS**\n",
    "\n",
    "- If Test data =>  Bad/Good accuracy -> **LOW/HIGH VARIANCE**\n"
   ]
  },
  {
   "cell_type": "markdown",
   "metadata": {},
   "source": [
    "![](./Images/bias-variance.png)"
   ]
  }
 ],
 "metadata": {
  "kernelspec": {
   "display_name": "Python 3.9.7 ('base')",
   "language": "python",
   "name": "python3"
  },
  "language_info": {
   "name": "python",
   "version": "3.9.7"
  },
  "orig_nbformat": 4,
  "vscode": {
   "interpreter": {
    "hash": "a2a44d6bf7725472b302fb43220884295e1f7de98ffd4624c738d18ae0190b1a"
   }
  }
 },
 "nbformat": 4,
 "nbformat_minor": 2
}
